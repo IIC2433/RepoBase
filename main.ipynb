{
  "nbformat": 4,
  "nbformat_minor": 0,
  "metadata": {
    "kernelspec": {
      "display_name": "Python 3",
      "language": "python",
      "name": "python3"
    },
    "language_info": {
      "codemirror_mode": {
        "name": "ipython",
        "version": 3
      },
      "file_extension": ".py",
      "mimetype": "text/x-python",
      "name": "python",
      "nbconvert_exporter": "python",
      "pygments_lexer": "ipython3",
      "version": "3.7.0"
    },
    "colab": {
      "name": "wine.ipynb",
      "provenance": [],
      "collapsed_sections": []
    }
  },
  "cells": [
    {
      "cell_type": "markdown",
      "metadata": {
        "id": "lP-bGdLvi9kI",
        "colab_type": "text"
      },
      "source": [
        " # Principal Component Analysis (PCA)\n",
        " \n",
        "### Contexto\n",
        "\n",
        "Dada una matriz $X_{pxn}$ de $n$ observaciones y $p$ dimensiones, PCA busca una matriz reducida $X'_{qxn}$ ($q<p$) que capture la mayor variabilidad posible de la base de datos, es decir, que pierda la menor información posible. \n",
        "\n",
        "Para realizar dicha transformación debemos encontrar una matriz $A_{qxp}$ tal que, \n",
        "\n",
        "$A_{qxp}X_{pxn} = X'_{qxn}$\n",
        "\n",
        "Como vimos en clases, esta matriz se compone de los $q$ vectores propios de la matriz de covarianza con mayores valores propios. "
      ]
    },
    {
      "cell_type": "markdown",
      "metadata": {
        "id": "Bjct_JJQi9kK",
        "colab_type": "text"
      },
      "source": [
        "Para ilustrar el algoritmo, utilizaremos el dataset [**winequality-red**](https://www.kaggle.com/uciml/red-wine-quality-cortez-et-al-2009), que tiene distintos atributos de distintos vinos rojos, además de la calidad de estos según expertos. Mediante PCA, buscaremos dos componentes principales, transformaremos los datos y los plotearemos en un scatter plot de dos dimensiones, para ver si hay algún patrón entre los atributos de un vino y su calidad. "
      ]
    },
    {
      "cell_type": "markdown",
      "metadata": {
        "id": "5iWiL1TOjAhf",
        "colab_type": "text"
      },
      "source": [
        "# Descargar dataset\n",
        "\n",
        "A continuación se deja un código capaz de descargar cualquier archivo de google drive mientras dicho archivo sea público."
      ]
    },
    {
      "cell_type": "code",
      "metadata": {
        "id": "QOKFSqqkjCRO",
        "colab_type": "code",
        "colab": {
          "base_uri": "https://localhost:8080/",
          "height": 34
        },
        "outputId": "193e8227-fe8b-477e-b959-a23d588cfe6f"
      },
      "source": [
        "from requests import Session\n",
        "\n",
        "def download_file_without_authenticate(id, destination):\n",
        "    def get_confirm_token(response):\n",
        "        for key, value in response.cookies.items():\n",
        "            if key.startswith(\"download_warning\"):\n",
        "                return value\n",
        "\n",
        "    URL = \"https://docs.google.com/uc?export=download\"\n",
        "    session = Session()\n",
        "    response = session.get(URL, params={\"id\": id}, stream=True)\n",
        "    token = get_confirm_token(response)\n",
        "\n",
        "    if token:\n",
        "        params = {\"id\": id, \"confirm\": token}\n",
        "        response = session.get(URL, params=params, stream=True)\n",
        "\n",
        "    CHUNK_SIZE = 32768\n",
        "    with open(destination, \"wb\") as f:\n",
        "        for i, chunk in enumerate(response.iter_content(CHUNK_SIZE)):\n",
        "            if chunk:  # filter out keep-alive new chunks\n",
        "                f.write(chunk)\n",
        "\n",
        "    return None\n",
        "\n",
        "download_file_without_authenticate(\"1FoK4OGN7gZS_XoE5Yx_CyUflQLO8vjvK\", \"winequality-red.csv\")\n",
        "!ls"
      ],
      "execution_count": 1,
      "outputs": [
        {
          "output_type": "stream",
          "text": [
            "sample_data  winequality-red.csv\n"
          ],
          "name": "stdout"
        }
      ]
    },
    {
      "cell_type": "markdown",
      "metadata": {
        "id": "tvtScdDpi9kM",
        "colab_type": "text"
      },
      "source": [
        "## Importar las librerías necesarias"
      ]
    },
    {
      "cell_type": "code",
      "metadata": {
        "id": "IL5NRYEyi9kO",
        "colab_type": "code",
        "colab": {}
      },
      "source": [
        "#Responde aquí"
      ],
      "execution_count": null,
      "outputs": []
    },
    {
      "cell_type": "markdown",
      "metadata": {
        "id": "qIGr3uJoi9kT",
        "colab_type": "text"
      },
      "source": [
        "## Importar archivo `winequality-red.csv` en un `DataFrame`"
      ]
    },
    {
      "cell_type": "code",
      "metadata": {
        "scrolled": true,
        "id": "c1TB2329i9kU",
        "colab_type": "code",
        "colab": {}
      },
      "source": [
        "#Responde aquí"
      ],
      "execution_count": null,
      "outputs": []
    },
    {
      "cell_type": "markdown",
      "metadata": {
        "id": "3LGPhkgBi9kY",
        "colab_type": "text"
      },
      "source": [
        "## Describir dataset"
      ]
    },
    {
      "cell_type": "markdown",
      "metadata": {
        "id": "CbVsaWTsi9kZ",
        "colab_type": "text"
      },
      "source": [
        "Ver como vienen los datos: ¿Hay valores nulos?¿Qué columnas hay?¿Qué significa cada columna? (No es necesario que escribas estas respuestas, solo utiliza métodos descriptivos de los `DataFrames` para conocer el dataset)"
      ]
    },
    {
      "cell_type": "code",
      "metadata": {
        "id": "jofm4EXji9kZ",
        "colab_type": "code",
        "colab": {}
      },
      "source": [
        "#Responde aquí"
      ],
      "execution_count": null,
      "outputs": []
    },
    {
      "cell_type": "code",
      "metadata": {
        "id": "fb1dKe5Si9kg",
        "colab_type": "code",
        "colab": {}
      },
      "source": [
        "#Responde aquí"
      ],
      "execution_count": null,
      "outputs": []
    },
    {
      "cell_type": "markdown",
      "metadata": {
        "id": "_TW0JDqFi9kl",
        "colab_type": "text"
      },
      "source": [
        "## Preprocesar la base de datos\n",
        "\n",
        "- Separa la base de datos en dos: una estructura con los atributos numéricos de los vinos y otra con la calidad de estos (columna `quality`). \n",
        "- Normaliza los datos. No es necesario normalizar la calidad en este caso. "
      ]
    },
    {
      "cell_type": "code",
      "metadata": {
        "id": "VJlCRB4Hi9km",
        "colab_type": "code",
        "colab": {}
      },
      "source": [
        "#Responde aquí"
      ],
      "execution_count": null,
      "outputs": []
    },
    {
      "cell_type": "code",
      "metadata": {
        "id": "Q6c0kWD2i9kr",
        "colab_type": "code",
        "colab": {}
      },
      "source": [
        "#Responde aquí"
      ],
      "execution_count": null,
      "outputs": []
    },
    {
      "cell_type": "markdown",
      "metadata": {
        "id": "pfJCLw75i9kx",
        "colab_type": "text"
      },
      "source": [
        "# PCA"
      ]
    },
    {
      "cell_type": "markdown",
      "metadata": {
        "id": "qJBiNr-Vi9ky",
        "colab_type": "text"
      },
      "source": [
        "### 1. Obtener la matriz de covarianzas de los datos y los valores y vectores propios asociados\n"
      ]
    },
    {
      "cell_type": "code",
      "metadata": {
        "id": "aHZxwogNi9ky",
        "colab_type": "code",
        "colab": {}
      },
      "source": [
        "#Responde aquí"
      ],
      "execution_count": null,
      "outputs": []
    },
    {
      "cell_type": "markdown",
      "metadata": {
        "id": "MYdmr1SPi9k2",
        "colab_type": "text"
      },
      "source": [
        "### 2. Obtener los 2 vectores propios con los mayores valores propios"
      ]
    },
    {
      "cell_type": "code",
      "metadata": {
        "id": "WL-BvPuMi9k3",
        "colab_type": "code",
        "colab": {}
      },
      "source": [
        "#Responde aquí"
      ],
      "execution_count": null,
      "outputs": []
    },
    {
      "cell_type": "markdown",
      "metadata": {
        "id": "qbIt0WFji9k6",
        "colab_type": "text"
      },
      "source": [
        "### 3. Reducir la dimensionalidad de los datos originales\n",
        "Si no te calzan las dimensiones, utiliza el método `shape` para revisarlas. "
      ]
    },
    {
      "cell_type": "code",
      "metadata": {
        "id": "myOgp0lYi9k7",
        "colab_type": "code",
        "colab": {}
      },
      "source": [
        "#Responde aquí"
      ],
      "execution_count": null,
      "outputs": []
    },
    {
      "cell_type": "markdown",
      "metadata": {
        "id": "gucb-RM7i9lC",
        "colab_type": "text"
      },
      "source": [
        "## Visualizar los datos transformados"
      ]
    },
    {
      "cell_type": "markdown",
      "metadata": {
        "id": "VQAuCVJNi9lD",
        "colab_type": "text"
      },
      "source": [
        "Utiliza `matplotlib` o alguna librería de visualización para ver los datos transformados en un scatter plot de dos dimensiones. Utiliza la estructura con las calidades que guardaste antes (de la columna `quality`) para diferenciar las distintas calidades de vinos, coloreando las calidades con distintos colores. \n",
        "\n",
        "**Hint:** Si ocupas `matplotlib`, asigna el color mediante el parámetro `c` del plot, entregandole la calidad. Además, ocupa el parámetro `cmap` para utilizar una paleta de colores mas adecuada. Mira [aquí](https://matplotlib.org/3.3.1/tutorials/colors/colormaps.html) las paletas disponibles.\n"
      ]
    },
    {
      "cell_type": "code",
      "metadata": {
        "id": "WPSmDDhni9lE",
        "colab_type": "code",
        "colab": {}
      },
      "source": [
        "#Responde aquí"
      ],
      "execution_count": null,
      "outputs": []
    },
    {
      "cell_type": "markdown",
      "metadata": {
        "id": "etkkgB2ci9lI",
        "colab_type": "text"
      },
      "source": [
        "**Responde:** ¿Hay algún patrón claro?¿Como podrías estimar la calidad de un vino que no se encontraba en la base de datos?"
      ]
    },
    {
      "cell_type": "code",
      "metadata": {
        "id": "dFL47cKsi9lJ",
        "colab_type": "code",
        "colab": {}
      },
      "source": [
        "#Responde aquí"
      ],
      "execution_count": null,
      "outputs": []
    }
  ]
}