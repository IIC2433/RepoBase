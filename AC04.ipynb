{
  "nbformat": 4,
  "nbformat_minor": 0,
  "metadata": {
    "colab": {
      "name": "Actividad 04 - Regresión Logística.ipynb",
      "provenance": [],
      "collapsed_sections": []
    },
    "kernelspec": {
      "name": "python3",
      "display_name": "Python 3"
    }
  },
  "cells": [
    {
      "cell_type": "markdown",
      "metadata": {
        "id": "6P0eNIIHMNgm"
      },
      "source": [
        "\n",
        "\n",
        "---\n",
        "\n",
        "\n",
        "\n",
        "# Actividad 4: Regresión Logística\n",
        "\n",
        "\n",
        "---\n",
        "\n",
        "\n"
      ]
    },
    {
      "cell_type": "markdown",
      "metadata": {
        "id": "ZLpnLNIxMSvz"
      },
      "source": [
        "***¿Qué es una regresión logística?***\n",
        "\n",
        "Regresión logística es un algoritmo de inteligencia de máquina, el objetivo es predecir la probabilidad de una variable categórica dependiente. La variable dependiente es una variable binaria, codificada ya sea como 0-1, si-no, verdadero-falso, éxito-fallo, etc. Entonces, lo que el modelo de regresión logística predice es P(Y=1) en función de X.\n",
        "\n",
        "***Los supuestos de regresión logística***\n",
        "\n",
        "\n",
        "*   Se requiere una variable dependiente binaria para resgresión logística binaria.\n",
        "*   Se debe considerar el factor 1 de la variable dependiente como el resultado deseado en la regresión logística binaria.\n",
        "*   Se debe cuidar tener solo las variables/atributos que realmente aportan, que son significativos.\n",
        "*   Se requiere que las variables independientes sean independientes entre ellas.\n",
        "*   Se requiere una muestra grande para regresión logística.\n",
        "\n"
      ]
    },
    {
      "cell_type": "markdown",
      "metadata": {
        "id": "_7mrIq7YRbRJ"
      },
      "source": [
        "# 0. Importar las librerías necesarias"
      ]
    },
    {
      "cell_type": "markdown",
      "metadata": {
        "id": "hyOF3nNUR3fp"
      },
      "source": [
        "Al igual que la actividad pasada, podrás ocupar `pandas` y `numpy` para procesar los datos y `matplotlib.pyplot` para las visualizaciones.\n"
      ]
    },
    {
      "cell_type": "code",
      "metadata": {
        "id": "a1dcIUowRdeR"
      },
      "source": [
        "import pandas as pd\n",
        "import numpy as np\n",
        "import matplotlib.pyplot as plt "
      ],
      "execution_count": null,
      "outputs": []
    },
    {
      "cell_type": "markdown",
      "metadata": {
        "id": "89oDdeGpRyJI"
      },
      "source": [
        "# 1. Importar los datos"
      ]
    },
    {
      "cell_type": "markdown",
      "metadata": {
        "id": "iPuBh3mOSJd6"
      },
      "source": [
        "Importa los datos de la actividad pasada. Verás que están las columnas `x` e `y`. Separalas en dos `numpy arrays`."
      ]
    },
    {
      "cell_type": "code",
      "metadata": {
        "id": "uJiA2-MWR0_R"
      },
      "source": [
        "data = pd.read_csv('https://raw.githubusercontent.com/IIC2433/Syllabus-2020-2/master/Actividades/AC03/data.csv')"
      ],
      "execution_count": null,
      "outputs": []
    },
    {
      "cell_type": "code",
      "metadata": {
        "id": "GMEy9XqHSSNR"
      },
      "source": [
        "#[Escribe tu respuesta aquí]"
      ],
      "execution_count": null,
      "outputs": []
    },
    {
      "cell_type": "markdown",
      "metadata": {
        "id": "wjN2MvKXSV3w"
      },
      "source": [
        "# 2. Transformación de los datos"
      ]
    },
    {
      "cell_type": "markdown",
      "metadata": {
        "id": "eMHD0Fr9SaGU"
      },
      "source": [
        "**2.0.** Ahora deberás transformar los datos contínuos del eje Y a datos categóricos, de modo que un dato menor a la mediana sea mapeado a cero, mientras que los mayores sean mapeados a uno.\n",
        "\n",
        "Terminada la transformación, grafica los nuevos datos en un scatter plot."
      ]
    },
    {
      "cell_type": "code",
      "metadata": {
        "id": "3zdm0YhpTuLQ"
      },
      "source": [
        "#[Escribe tu respuesta aquí]"
      ],
      "execution_count": null,
      "outputs": []
    },
    {
      "cell_type": "code",
      "metadata": {
        "id": "zlqRlp0_U7bl"
      },
      "source": [
        "#[Escribe tu respuesta aquí]"
      ],
      "execution_count": null,
      "outputs": []
    },
    {
      "cell_type": "markdown",
      "metadata": {
        "id": "kcu0TBdVhZLX"
      },
      "source": [
        "**2.1.** Antes de estimar los parámetros $\\alpha$ y $\\beta$, nos será útil una función que nos entregue el valor de $\\hat{y}$ dados estos valores y el valor de $x$.\n"
      ]
    },
    {
      "cell_type": "code",
      "metadata": {
        "id": "nvmaHYYebr7L"
      },
      "source": [
        "def predecir(valor, alfa, beta):\n",
        "  #[Escribe tu respuesta aquí]"
      ],
      "execution_count": null,
      "outputs": []
    },
    {
      "cell_type": "markdown",
      "metadata": {
        "id": "KqZiCg9gh6Wn"
      },
      "source": [
        "**2.2.** ***Stochastic Gradient Descent (SGD) para sacar alfa y beta***\n",
        "\n",
        "El proceso de Gradient Descent busca minimizar siguiendo los gradientes de la función de pérdida.\n",
        "En inteligencia de máquina usamos la técnica que evalua y actualiza los coeficientes en cada iteración para minimizar el error del modelo en nuestro set de entrenamiento.\n",
        "\n",
        "Si bien existen muchas implementaciones distintas, para esta actividad usarán un proceso iterativo que actualizará sus parámetros a partir del error obtenido, del gradiente de su función predictora y de un valor llamado $learning\\ rate$.\n",
        "\n",
        "Para una iteración $t$, el valor de un parámetro $\\beta$ en $t+1$ estará dado por:\n",
        "\n",
        "$$\n",
        "\\beta(t+1)=\\beta(t)+\\gamma * \\epsilon * f'(x)\n",
        "$$\n",
        "\n",
        "Donde $\\epsilon$ corresponde al error que incurre nuestro modelo, $\\gamma$ es el $learning\\ rate$ y $f'(x)$ corresponde a la gradiente.\n",
        "\n",
        "Para efectos de esta actividad, tenemos que nuestra función $f(x)$ es la sigmoide:\n",
        "\n",
        "$$\n",
        "f(x)=\\frac{1}{1+e^{\\alpha+\\beta x}}\n",
        "$$\n",
        "\n",
        "Donde $x$ es el valor de la variable dependiente, $\\alpha$ y $\\beta$ son los parámetros que buscamos optimizar. Ya que nuestra función es sigmoide, podemos también asumir\n",
        "\n",
        "$$\n",
        "f'(x) = f(x) * (1- f(x))=\\hat{y}*(1-\\hat{y})\n",
        "$$\n",
        "\n",
        "Donde $\\hat{y}$ corresponde a la predicción de $y$ dados $\\alpha$ y $\\beta$ de la función.\n",
        "\n",
        "En resumen, ustedes deberán implementar una función que optimize los parámetros alfa y beta, en una cantidad de ciclos específica.\n",
        "\n",
        "En cada ciclo, deberán actualizar, para todos los datos entregados, los parámetros de forma\n",
        "\n",
        "$$\n",
        "\\alpha = \\alpha + \\gamma * (y - \\hat{y}) * \\hat{y} * (1- \\hat{y})\n",
        "$$\n",
        "\n",
        "$$\n",
        "\\beta = \\beta + \\gamma * (y - \\hat{y}) * \\hat{y} * (1- \\hat{y}) * x\n",
        "$$\n",
        "\n",
        "con $\\hat{y}$ siendo la predicción, $(y - \\hat{y})$ el error de la predicción, $x$ es de valor de entrada y el $\\gamma$ es la tasa de aprendizaje que debe ser configurada i.e. $0.01$"
      ]
    },
    {
      "cell_type": "code",
      "metadata": {
        "id": "iOd8M1fLdV7y"
      },
      "source": [
        "def coeficientes(X, Y, gamma, epochs):\n",
        "  alfa = 0\n",
        "  beta = 0\n",
        "  #[Escribe tu respuesta aquí]\n",
        "  return alfa, beta"
      ],
      "execution_count": null,
      "outputs": []
    },
    {
      "cell_type": "markdown",
      "metadata": {
        "id": "wxIMu3OEiN_2"
      },
      "source": [
        "**2.3.** Nuestro leaning rate $\\gamma$ y la cantidad de ciclos por las que entrenaremos el modelo estan dadas por las siguientes variables:"
      ]
    },
    {
      "cell_type": "code",
      "metadata": {
        "id": "F-LzYciLf1KJ"
      },
      "source": [
        "GAMMA = 0.5\n",
        "EPOCHS = 50"
      ],
      "execution_count": null,
      "outputs": []
    },
    {
      "cell_type": "markdown",
      "metadata": {
        "id": "Ni3gRh8BidW4"
      },
      "source": [
        "**2.4.** Ahora, están listos para obtener los coeficientes del modelo y graficarlo."
      ]
    },
    {
      "cell_type": "code",
      "metadata": {
        "id": "t_nCXByfe-Aa"
      },
      "source": [
        "#[Escribe tu respuesta aquí]"
      ],
      "execution_count": null,
      "outputs": []
    },
    {
      "cell_type": "code",
      "metadata": {
        "id": "7CEloCKvfUIY"
      },
      "source": [
        "#[Escribe tu respuesta aquí]"
      ],
      "execution_count": null,
      "outputs": []
    }
  ]
}